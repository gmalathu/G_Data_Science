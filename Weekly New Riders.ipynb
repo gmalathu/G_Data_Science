{
 "cells": [
  {
   "cell_type": "code",
   "execution_count": 2,
   "metadata": {
    "collapsed": true
   },
   "outputs": [],
   "source": [
    "import numpy as np\n",
    "import pandas as pd"
   ]
  },
  {
   "cell_type": "code",
   "execution_count": 3,
   "metadata": {
    "collapsed": false
   },
   "outputs": [
    {
     "data": {
      "text/html": [
       "<div>\n",
       "<table border=\"1\" class=\"dataframe\">\n",
       "  <thead>\n",
       "    <tr style=\"text-align: right;\">\n",
       "      <th></th>\n",
       "      <th>RIDE_ID</th>\n",
       "      <th>started_on</th>\n",
       "      <th>created_date</th>\n",
       "      <th>updated_date</th>\n",
       "      <th>completed_on</th>\n",
       "      <th>distance_travelled</th>\n",
       "      <th>end_location_lat</th>\n",
       "      <th>end_location_long</th>\n",
       "      <th>driver_rating</th>\n",
       "      <th>rider_rating</th>\n",
       "      <th>...</th>\n",
       "      <th>charity_id</th>\n",
       "      <th>requested_car_category</th>\n",
       "      <th>free_credit_used</th>\n",
       "      <th>surge_factor</th>\n",
       "      <th>start_location_long</th>\n",
       "      <th>start_location_lat</th>\n",
       "      <th>rider_id</th>\n",
       "      <th>round_up_amount</th>\n",
       "      <th>promocode_redemption_id</th>\n",
       "      <th>driver_reached_on</th>\n",
       "    </tr>\n",
       "  </thead>\n",
       "  <tbody>\n",
       "    <tr>\n",
       "      <th>0</th>\n",
       "      <td>0</td>\n",
       "      <td>2016-06-04 00:18:49-05:00</td>\n",
       "      <td>2016-06-04 00:10:19-05:00</td>\n",
       "      <td>2016-06-04 00:27:48-05:00</td>\n",
       "      <td>2016-06-04 00:27:32-05:00</td>\n",
       "      <td>8459.0</td>\n",
       "      <td>38.676</td>\n",
       "      <td>-121.039</td>\n",
       "      <td>5.0</td>\n",
       "      <td>5.0</td>\n",
       "      <td>...</td>\n",
       "      <td>NaN</td>\n",
       "      <td>b'REGULAR'</td>\n",
       "      <td>NaN</td>\n",
       "      <td>0.0</td>\n",
       "      <td>-121.071</td>\n",
       "      <td>38.655</td>\n",
       "      <td>0</td>\n",
       "      <td>NaN</td>\n",
       "      <td>NaN</td>\n",
       "      <td>2016-06-04 00:14:11-05:00</td>\n",
       "    </tr>\n",
       "    <tr>\n",
       "      <th>1</th>\n",
       "      <td>1</td>\n",
       "      <td>2016-06-04 01:50:12-05:00</td>\n",
       "      <td>2016-06-04 01:47:39-05:00</td>\n",
       "      <td>2016-06-04 01:52:00-05:00</td>\n",
       "      <td>2016-06-04 01:51:49-05:00</td>\n",
       "      <td>443.0</td>\n",
       "      <td>38.676</td>\n",
       "      <td>-121.039</td>\n",
       "      <td>5.0</td>\n",
       "      <td>5.0</td>\n",
       "      <td>...</td>\n",
       "      <td>NaN</td>\n",
       "      <td>b'REGULAR'</td>\n",
       "      <td>NaN</td>\n",
       "      <td>0.0</td>\n",
       "      <td>-121.038</td>\n",
       "      <td>38.679</td>\n",
       "      <td>0</td>\n",
       "      <td>NaN</td>\n",
       "      <td>NaN</td>\n",
       "      <td>2016-06-04 01:50:02-05:00</td>\n",
       "    </tr>\n",
       "    <tr>\n",
       "      <th>2</th>\n",
       "      <td>2</td>\n",
       "      <td>2016-06-04 03:16:02-05:00</td>\n",
       "      <td>2016-06-04 03:13:07-05:00</td>\n",
       "      <td>2016-06-04 03:18:07-05:00</td>\n",
       "      <td>2016-06-04 03:17:57-05:00</td>\n",
       "      <td>568.0</td>\n",
       "      <td>38.676</td>\n",
       "      <td>-121.039</td>\n",
       "      <td>3.0</td>\n",
       "      <td>5.0</td>\n",
       "      <td>...</td>\n",
       "      <td>NaN</td>\n",
       "      <td>b'REGULAR'</td>\n",
       "      <td>NaN</td>\n",
       "      <td>0.0</td>\n",
       "      <td>-121.042</td>\n",
       "      <td>38.678</td>\n",
       "      <td>0</td>\n",
       "      <td>NaN</td>\n",
       "      <td>NaN</td>\n",
       "      <td>2016-06-04 03:16:01-05:00</td>\n",
       "    </tr>\n",
       "    <tr>\n",
       "      <th>3</th>\n",
       "      <td>3</td>\n",
       "      <td>2016-06-04 10:05:13-05:00</td>\n",
       "      <td>2016-06-04 09:52:35-05:00</td>\n",
       "      <td>2016-06-04 10:14:00-05:00</td>\n",
       "      <td>2016-06-04 10:13:38-05:00</td>\n",
       "      <td>4051.0</td>\n",
       "      <td>30.271</td>\n",
       "      <td>-97.742</td>\n",
       "      <td>5.0</td>\n",
       "      <td>5.0</td>\n",
       "      <td>...</td>\n",
       "      <td>NaN</td>\n",
       "      <td>b'REGULAR'</td>\n",
       "      <td>NaN</td>\n",
       "      <td>0.0</td>\n",
       "      <td>-97.764</td>\n",
       "      <td>30.247</td>\n",
       "      <td>1</td>\n",
       "      <td>NaN</td>\n",
       "      <td>NaN</td>\n",
       "      <td>2016-06-04 10:01:19-05:00</td>\n",
       "    </tr>\n",
       "    <tr>\n",
       "      <th>4</th>\n",
       "      <td>4</td>\n",
       "      <td>2016-06-04 10:24:25-05:00</td>\n",
       "      <td>2016-06-04 10:23:25-05:00</td>\n",
       "      <td>2016-06-04 10:26:16-05:00</td>\n",
       "      <td>2016-06-04 10:26:07-05:00</td>\n",
       "      <td>790.0</td>\n",
       "      <td>30.269</td>\n",
       "      <td>-97.752</td>\n",
       "      <td>5.0</td>\n",
       "      <td>5.0</td>\n",
       "      <td>...</td>\n",
       "      <td>NaN</td>\n",
       "      <td>b'REGULAR'</td>\n",
       "      <td>NaN</td>\n",
       "      <td>0.0</td>\n",
       "      <td>-97.750</td>\n",
       "      <td>30.269</td>\n",
       "      <td>2</td>\n",
       "      <td>NaN</td>\n",
       "      <td>NaN</td>\n",
       "      <td>2016-06-04 10:24:15-05:00</td>\n",
       "    </tr>\n",
       "  </tbody>\n",
       "</table>\n",
       "<p>5 rows × 21 columns</p>\n",
       "</div>"
      ],
      "text/plain": [
       "   RIDE_ID                 started_on               created_date  \\\n",
       "0        0  2016-06-04 00:18:49-05:00  2016-06-04 00:10:19-05:00   \n",
       "1        1  2016-06-04 01:50:12-05:00  2016-06-04 01:47:39-05:00   \n",
       "2        2  2016-06-04 03:16:02-05:00  2016-06-04 03:13:07-05:00   \n",
       "3        3  2016-06-04 10:05:13-05:00  2016-06-04 09:52:35-05:00   \n",
       "4        4  2016-06-04 10:24:25-05:00  2016-06-04 10:23:25-05:00   \n",
       "\n",
       "                updated_date               completed_on  distance_travelled  \\\n",
       "0  2016-06-04 00:27:48-05:00  2016-06-04 00:27:32-05:00              8459.0   \n",
       "1  2016-06-04 01:52:00-05:00  2016-06-04 01:51:49-05:00               443.0   \n",
       "2  2016-06-04 03:18:07-05:00  2016-06-04 03:17:57-05:00               568.0   \n",
       "3  2016-06-04 10:14:00-05:00  2016-06-04 10:13:38-05:00              4051.0   \n",
       "4  2016-06-04 10:26:16-05:00  2016-06-04 10:26:07-05:00               790.0   \n",
       "\n",
       "   end_location_lat  end_location_long  driver_rating  rider_rating  \\\n",
       "0            38.676           -121.039            5.0           5.0   \n",
       "1            38.676           -121.039            5.0           5.0   \n",
       "2            38.676           -121.039            3.0           5.0   \n",
       "3            30.271            -97.742            5.0           5.0   \n",
       "4            30.269            -97.752            5.0           5.0   \n",
       "\n",
       "             ...              charity_id  requested_car_category  \\\n",
       "0            ...                     NaN              b'REGULAR'   \n",
       "1            ...                     NaN              b'REGULAR'   \n",
       "2            ...                     NaN              b'REGULAR'   \n",
       "3            ...                     NaN              b'REGULAR'   \n",
       "4            ...                     NaN              b'REGULAR'   \n",
       "\n",
       "  free_credit_used  surge_factor  start_location_long  start_location_lat  \\\n",
       "0              NaN           0.0             -121.071              38.655   \n",
       "1              NaN           0.0             -121.038              38.679   \n",
       "2              NaN           0.0             -121.042              38.678   \n",
       "3              NaN           0.0              -97.764              30.247   \n",
       "4              NaN           0.0              -97.750              30.269   \n",
       "\n",
       "   rider_id  round_up_amount  promocode_redemption_id  \\\n",
       "0         0              NaN                      NaN   \n",
       "1         0              NaN                      NaN   \n",
       "2         0              NaN                      NaN   \n",
       "3         1              NaN                      NaN   \n",
       "4         2              NaN                      NaN   \n",
       "\n",
       "           driver_reached_on  \n",
       "0  2016-06-04 00:14:11-05:00  \n",
       "1  2016-06-04 01:50:02-05:00  \n",
       "2  2016-06-04 03:16:01-05:00  \n",
       "3  2016-06-04 10:01:19-05:00  \n",
       "4  2016-06-04 10:24:15-05:00  \n",
       "\n",
       "[5 rows x 21 columns]"
      ]
     },
     "execution_count": 3,
     "metadata": {},
     "output_type": "execute_result"
    }
   ],
   "source": [
    "df = pd.read_csv('Rides_DataA.csv')\n",
    "df.head()"
   ]
  },
  {
   "cell_type": "code",
   "execution_count": 4,
   "metadata": {
    "collapsed": false
   },
   "outputs": [
    {
     "name": "stdout",
     "output_type": "stream",
     "text": [
      "<class 'pandas.core.frame.DataFrame'>\n",
      "RangeIndex: 1494125 entries, 0 to 1494124\n",
      "Data columns (total 21 columns):\n",
      "RIDE_ID                    1494125 non-null int64\n",
      "started_on                 1494125 non-null object\n",
      "created_date               1494125 non-null object\n",
      "updated_date               1494125 non-null object\n",
      "completed_on               1494125 non-null object\n",
      "distance_travelled         1494123 non-null float64\n",
      "end_location_lat           1494125 non-null float64\n",
      "end_location_long          1494125 non-null float64\n",
      "driver_rating              1355725 non-null float64\n",
      "rider_rating               1468193 non-null float64\n",
      "active_driver_id           1494125 non-null int64\n",
      "charity_id                 369561 non-null float64\n",
      "requested_car_category     1494125 non-null object\n",
      "free_credit_used           225394 non-null float64\n",
      "surge_factor               1494125 non-null float64\n",
      "start_location_long        1494125 non-null float64\n",
      "start_location_lat         1494125 non-null float64\n",
      "rider_id                   1494125 non-null int64\n",
      "round_up_amount            1493352 non-null float64\n",
      "promocode_redemption_id    38771 non-null float64\n",
      "driver_reached_on          1492824 non-null object\n",
      "dtypes: float64(12), int64(3), object(6)\n",
      "memory usage: 239.4+ MB\n"
     ]
    }
   ],
   "source": [
    "df.info()"
   ]
  },
  {
   "cell_type": "code",
   "execution_count": 5,
   "metadata": {
    "collapsed": true
   },
   "outputs": [],
   "source": [
    "#Adding Created On column as a date time data type\n",
    "df['created_on'] = pd.to_datetime(df.created_date, format='%Y-%m-%d')"
   ]
  },
  {
   "cell_type": "code",
   "execution_count": 6,
   "metadata": {
    "collapsed": true
   },
   "outputs": [],
   "source": [
    "#Adding a Week column.  This is the Week Number.\n",
    "df['Week'] = df.created_on.apply(lambda x: x.week)"
   ]
  },
  {
   "cell_type": "code",
   "execution_count": 58,
   "metadata": {
    "collapsed": false
   },
   "outputs": [],
   "source": [
    "#Creating the dataset for the weekly new riders\n",
    "weekly_new_riders = df.groupby('rider_id').min()['Week'].value_counts()"
   ]
  },
  {
   "cell_type": "code",
   "execution_count": 60,
   "metadata": {
    "collapsed": false
   },
   "outputs": [
    {
     "data": {
      "text/plain": [
       "11    18094\n",
       "1     16136\n",
       "3     13499\n",
       "2     13233\n",
       "10    12890\n",
       "7     11052\n",
       "40    10932\n",
       "4     10083\n",
       "6      9600\n",
       "12     9422\n",
       "8      9377\n",
       "5      8644\n",
       "14     8559\n",
       "39     8529\n",
       "13     8117\n",
       "9      7886\n",
       "45     6727\n",
       "43     6111\n",
       "41     5791\n",
       "42     5683\n",
       "44     5150\n",
       "52     4834\n",
       "46     4508\n",
       "35     4424\n",
       "38     4408\n",
       "37     3934\n",
       "49     3871\n",
       "36     3677\n",
       "48     3618\n",
       "50     3269\n",
       "47     3022\n",
       "15     2744\n",
       "34     2711\n",
       "51     2148\n",
       "32     1704\n",
       "33     1663\n",
       "31     1019\n",
       "30      787\n",
       "29      739\n",
       "26      556\n",
       "28      537\n",
       "27      511\n",
       "25      460\n",
       "24      281\n",
       "23       16\n",
       "22        3\n",
       "Name: Week, dtype: int64"
      ]
     },
     "execution_count": 60,
     "metadata": {},
     "output_type": "execute_result"
    }
   ],
   "source": [
    "#Checking\n",
    "weekly_new_riders"
   ]
  },
  {
   "cell_type": "code",
   "execution_count": 83,
   "metadata": {
    "collapsed": false
   },
   "outputs": [
    {
     "data": {
      "text/plain": [
       "(38771, 23)"
      ]
     },
     "execution_count": 83,
     "metadata": {},
     "output_type": "execute_result"
    }
   ],
   "source": [
    "#This is creating a function to only return riders who used a promocode\n",
    "df[~df.promocode_redemption_id.isnull()].shape"
   ]
  },
  {
   "cell_type": "code",
   "execution_count": null,
   "metadata": {
    "collapsed": true
   },
   "outputs": [],
   "source": [
    "#Returns dataset of the weekly number of new riders who used a promo code.\n",
    "weekly_new_promo_riders = df[~df.promocode_redemption_id.isnull()].groupby('rider_id').min()['Week'].value_counts()"
   ]
  },
  {
   "cell_type": "code",
   "execution_count": 66,
   "metadata": {
    "collapsed": false
   },
   "outputs": [],
   "source": [
    "#Returns the total number of rides for a given week\n",
    "weekly_total_riders = df.groupby('Week').count()['RIDE_ID']"
   ]
  },
  {
   "cell_type": "code",
   "execution_count": 80,
   "metadata": {
    "collapsed": false
   },
   "outputs": [
    {
     "data": {
      "text/plain": [
       "<matplotlib.axes._subplots.AxesSubplot at 0x18eff2198>"
      ]
     },
     "execution_count": 80,
     "metadata": {},
     "output_type": "execute_result"
    },
    {
     "data": {
      "image/png": "[encoded data removed]",
      "text/plain": [
       "<matplotlib.figure.Figure at 0x11a65bb38>"
      ]
     },
     "metadata": {},
     "output_type": "display_data"
    }
   ],
   "source": [
    "#Plotting number of rides\n",
    "weekly_total_riders.sort_index().plot()"
   ]
  },
  {
   "cell_type": "code",
   "execution_count": 103,
   "metadata": {
    "collapsed": false
   },
   "outputs": [],
   "source": [
    "#Combining the weekly numbers of new riders and total rides\n",
    "weekly_rider = pd.concat([weekly_new_riders, weekly_total_riders], axis=1)\n",
    "weekly_rider.columns = ['first','total']"
   ]
  },
  {
   "cell_type": "code",
   "execution_count": 106,
   "metadata": {
    "collapsed": false
   },
   "outputs": [],
   "source": [
    "#Adding the column for percentage\n",
    "weekly_rider['percentage']=weekly_rider['first']/weekly_rider['total']*100\n",
    "weekly_rider_percent = weekly_rider['percentage']"
   ]
  },
  {
   "cell_type": "code",
   "execution_count": 114,
   "metadata": {
    "collapsed": false
   },
   "outputs": [
    {
     "data": {
      "text/plain": [
       "<matplotlib.legend.Legend at 0x115e68a58>"
      ]
     },
     "execution_count": 114,
     "metadata": {},
     "output_type": "execute_result"
    },
    {
     "data": {
      "image/png": "[encoded data removed]",
      "text/plain": [
       "<matplotlib.figure.Figure at 0x115e707f0>"
      ]
     },
     "metadata": {},
     "output_type": "display_data"
    }
   ],
   "source": [
    "#Plotting New Riders vs total rides\n",
    "import matplotlib.pyplot as plt\n",
    "%matplotlib inline\n",
    "\n",
    "fig, ax = plt.subplots(1, 1, figsize=(20, 10))\n",
    "weekly_new_riders = weekly_new_riders.sort_index()\n",
    "weekly_total_riders = weekly_total_riders.sort_index()\n",
    "weekly_new_riders.plot.bar(position=0, width=0.4, color='red', label='first-rider')\n",
    "weekly_total_riders.plot.bar(position=1, width=0.4, color='#4DD3C9', label='total-rider')\n",
    "plt.ylabel('ride count')\n",
    "plt.legend()"
   ]
  },
  {
   "cell_type": "code",
   "execution_count": 115,
   "metadata": {
    "collapsed": false
   },
   "outputs": [
    {
     "data": {
      "text/plain": [
       "<matplotlib.text.Text at 0x117868518>"
      ]
     },
     "execution_count": 115,
     "metadata": {},
     "output_type": "execute_result"
    },
    {
     "data": {
      "image/png": "[encoded data removed]",
      "text/plain": [
       "<matplotlib.figure.Figure at 0x114c0ee80>"
      ]
     },
     "metadata": {},
     "output_type": "display_data"
    }
   ],
   "source": [
    "#Weekly percentage of new rides over total rides\n",
    "weekly_rider_percent.plot()\n",
    "plt.ylabel('first-rider percentage')"
   ]
  },
  {
   "cell_type": "code",
   "execution_count": 113,
   "metadata": {
    "collapsed": false
   },
   "outputs": [
    {
     "data": {
      "text/plain": [
       "18.25078170306312"
      ]
     },
     "execution_count": 113,
     "metadata": {},
     "output_type": "execute_result"
    }
   ],
   "source": [
    "#Getting the mean\n",
    "import numpy as np\n",
    "np.mean(weekly_rider_percent)"
   ]
  },
  {
   "cell_type": "code",
   "execution_count": null,
   "metadata": {
    "collapsed": true
   },
   "outputs": [],
   "source": []
  }
 ],
 "metadata": {
  "kernelspec": {
   "display_name": "Python 3",
   "language": "python",
   "name": "python3"
  },
  "language_info": {
   "codemirror_mode": {
    "name": "ipython",
    "version": 3
   },
   "file_extension": ".py",
   "mimetype": "text/x-python",
   "name": "python",
   "nbconvert_exporter": "python",
   "pygments_lexer": "ipython3",
   "version": "3.6.0"
  }
 },
 "nbformat": 4,
 "nbformat_minor": 2
}
